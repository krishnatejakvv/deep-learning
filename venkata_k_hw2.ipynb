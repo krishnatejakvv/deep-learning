{
 "cells": [
  {
   "cell_type": "markdown",
   "metadata": {},
   "source": [
    "# Homework 2 - K. V. V. Krishna Teja"
   ]
  },
  {
   "cell_type": "markdown",
   "metadata": {},
   "source": [
    "### Global Declaration"
   ]
  },
  {
   "cell_type": "code",
   "execution_count": 1,
   "metadata": {},
   "outputs": [
    {
     "name": "stdout",
     "output_type": "stream",
     "text": [
      "TensorFlow version: 2.1.0\n"
     ]
    }
   ],
   "source": [
    "import numpy as np\n",
    "import pandas as pd\n",
    "import tensorflow as tf\n",
    "import matplotlib.pyplot as plt\n",
    "print(\"TensorFlow version: \" + tf.__version__)"
   ]
  },
  {
   "cell_type": "code",
   "execution_count": 2,
   "metadata": {},
   "outputs": [],
   "source": [
    "from tensorflow.keras.models import Sequential\n",
    "from tensorflow.keras.layers import Dense, Dropout, Activation\n",
    "from tensorflow.keras import regularizers\n",
    "from tensorflow.keras import initializers\n",
    "from sklearn.preprocessing import MinMaxScaler\n",
    "from sklearn.preprocessing import LabelEncoder\n",
    "from sklearn.preprocessing import OneHotEncoder"
   ]
  },
  {
   "cell_type": "markdown",
   "metadata": {},
   "source": [
    "### Import dataset\n",
    "The data from Image_Segmentation.csv is imported and sorted out"
   ]
  },
  {
   "cell_type": "code",
   "execution_count": 3,
   "metadata": {
    "scrolled": true
   },
   "outputs": [
    {
     "name": "stdout",
     "output_type": "stream",
     "text": [
      "Loading data...\n"
     ]
    }
   ],
   "source": [
    "print('Loading data...')\n",
    "DataFrame = pd.read_csv(\"Image_Segmentation.csv\")\n",
    "# y = target values, last column of the data frame\n",
    "y= DataFrame.iloc[:, -1]\n",
    "# X = feature values, all the columns except the last column\n",
    "x= DataFrame[['A1', 'A2','A3','A4', 'A5', 'A6','A7', 'A8','A9','A10','A11','A12', 'A13', 'A14','A15', 'A16', 'A17','A18', 'A19' ]]"
   ]
  },
  {
   "cell_type": "markdown",
   "metadata": {},
   "source": [
    "### Splitting dataset"
   ]
  },
  {
   "cell_type": "markdown",
   "metadata": {},
   "source": [
    "We now scale the dataframe using the MinMaxScaler from sklearn.preprocessing and add bias to this normalized dataframe"
   ]
  },
  {
   "cell_type": "code",
   "execution_count": 4,
   "metadata": {},
   "outputs": [
    {
     "name": "stdout",
     "output_type": "stream",
     "text": [
      "Normalising...\n"
     ]
    },
    {
     "data": {
      "text/html": [
       "<div>\n",
       "<style scoped>\n",
       "    .dataframe tbody tr th:only-of-type {\n",
       "        vertical-align: middle;\n",
       "    }\n",
       "\n",
       "    .dataframe tbody tr th {\n",
       "        vertical-align: top;\n",
       "    }\n",
       "\n",
       "    .dataframe thead th {\n",
       "        text-align: right;\n",
       "    }\n",
       "</style>\n",
       "<table border=\"1\" class=\"dataframe\">\n",
       "  <thead>\n",
       "    <tr style=\"text-align: right;\">\n",
       "      <th></th>\n",
       "      <th>A0</th>\n",
       "      <th>A1</th>\n",
       "      <th>A2</th>\n",
       "      <th>A3</th>\n",
       "      <th>A4</th>\n",
       "      <th>A5</th>\n",
       "      <th>A6</th>\n",
       "      <th>A7</th>\n",
       "      <th>A8</th>\n",
       "      <th>A9</th>\n",
       "      <th>A10</th>\n",
       "      <th>A11</th>\n",
       "      <th>A12</th>\n",
       "      <th>A13</th>\n",
       "      <th>A14</th>\n",
       "      <th>A15</th>\n",
       "      <th>A16</th>\n",
       "      <th>A17</th>\n",
       "      <th>A18</th>\n",
       "      <th>A19</th>\n",
       "    </tr>\n",
       "  </thead>\n",
       "  <tbody>\n",
       "    <tr>\n",
       "      <td>0</td>\n",
       "      <td>1</td>\n",
       "      <td>0.857708</td>\n",
       "      <td>0.695833</td>\n",
       "      <td>0.0</td>\n",
       "      <td>0.333333</td>\n",
       "      <td>0.0</td>\n",
       "      <td>0.028517</td>\n",
       "      <td>0.000552</td>\n",
       "      <td>0.024845</td>\n",
       "      <td>0.000393</td>\n",
       "      <td>0.415698</td>\n",
       "      <td>0.382496</td>\n",
       "      <td>0.498527</td>\n",
       "      <td>0.359314</td>\n",
       "      <td>0.472015</td>\n",
       "      <td>0.627059</td>\n",
       "      <td>0.148008</td>\n",
       "      <td>0.498527</td>\n",
       "      <td>0.318996</td>\n",
       "      <td>0.168487</td>\n",
       "    </tr>\n",
       "    <tr>\n",
       "      <td>1</td>\n",
       "      <td>1</td>\n",
       "      <td>0.442688</td>\n",
       "      <td>0.495833</td>\n",
       "      <td>0.0</td>\n",
       "      <td>0.000000</td>\n",
       "      <td>0.0</td>\n",
       "      <td>0.009506</td>\n",
       "      <td>0.000253</td>\n",
       "      <td>0.007453</td>\n",
       "      <td>0.000263</td>\n",
       "      <td>0.006197</td>\n",
       "      <td>0.000000</td>\n",
       "      <td>0.016937</td>\n",
       "      <td>0.000779</td>\n",
       "      <td>0.789179</td>\n",
       "      <td>0.184706</td>\n",
       "      <td>0.538899</td>\n",
       "      <td>0.016937</td>\n",
       "      <td>1.000000</td>\n",
       "      <td>0.154604</td>\n",
       "    </tr>\n",
       "    <tr>\n",
       "      <td>2</td>\n",
       "      <td>1</td>\n",
       "      <td>0.794466</td>\n",
       "      <td>0.125000</td>\n",
       "      <td>0.0</td>\n",
       "      <td>0.000000</td>\n",
       "      <td>0.0</td>\n",
       "      <td>0.032320</td>\n",
       "      <td>0.000779</td>\n",
       "      <td>0.024845</td>\n",
       "      <td>0.000740</td>\n",
       "      <td>0.857733</td>\n",
       "      <td>0.816045</td>\n",
       "      <td>0.926362</td>\n",
       "      <td>0.823850</td>\n",
       "      <td>0.272388</td>\n",
       "      <td>0.663529</td>\n",
       "      <td>0.292220</td>\n",
       "      <td>0.926362</td>\n",
       "      <td>0.199347</td>\n",
       "      <td>0.124946</td>\n",
       "    </tr>\n",
       "    <tr>\n",
       "      <td>3</td>\n",
       "      <td>1</td>\n",
       "      <td>0.122530</td>\n",
       "      <td>0.675000</td>\n",
       "      <td>0.0</td>\n",
       "      <td>0.000000</td>\n",
       "      <td>0.0</td>\n",
       "      <td>0.058935</td>\n",
       "      <td>0.001796</td>\n",
       "      <td>0.201242</td>\n",
       "      <td>0.004869</td>\n",
       "      <td>0.303899</td>\n",
       "      <td>0.288493</td>\n",
       "      <td>0.350515</td>\n",
       "      <td>0.268901</td>\n",
       "      <td>0.630597</td>\n",
       "      <td>0.427059</td>\n",
       "      <td>0.309298</td>\n",
       "      <td>0.350515</td>\n",
       "      <td>0.266914</td>\n",
       "      <td>0.175487</td>\n",
       "    </tr>\n",
       "    <tr>\n",
       "      <td>4</td>\n",
       "      <td>1</td>\n",
       "      <td>0.237154</td>\n",
       "      <td>0.775000</td>\n",
       "      <td>0.0</td>\n",
       "      <td>0.000000</td>\n",
       "      <td>0.0</td>\n",
       "      <td>0.049430</td>\n",
       "      <td>0.001528</td>\n",
       "      <td>0.058385</td>\n",
       "      <td>0.001389</td>\n",
       "      <td>0.345727</td>\n",
       "      <td>0.322528</td>\n",
       "      <td>0.407953</td>\n",
       "      <td>0.301637</td>\n",
       "      <td>0.563433</td>\n",
       "      <td>0.511765</td>\n",
       "      <td>0.240987</td>\n",
       "      <td>0.407953</td>\n",
       "      <td>0.302925</td>\n",
       "      <td>0.171556</td>\n",
       "    </tr>\n",
       "  </tbody>\n",
       "</table>\n",
       "</div>"
      ],
      "text/plain": [
       "   A0        A1        A2   A3        A4   A5        A6        A7        A8  \\\n",
       "0   1  0.857708  0.695833  0.0  0.333333  0.0  0.028517  0.000552  0.024845   \n",
       "1   1  0.442688  0.495833  0.0  0.000000  0.0  0.009506  0.000253  0.007453   \n",
       "2   1  0.794466  0.125000  0.0  0.000000  0.0  0.032320  0.000779  0.024845   \n",
       "3   1  0.122530  0.675000  0.0  0.000000  0.0  0.058935  0.001796  0.201242   \n",
       "4   1  0.237154  0.775000  0.0  0.000000  0.0  0.049430  0.001528  0.058385   \n",
       "\n",
       "         A9       A10       A11       A12       A13       A14       A15  \\\n",
       "0  0.000393  0.415698  0.382496  0.498527  0.359314  0.472015  0.627059   \n",
       "1  0.000263  0.006197  0.000000  0.016937  0.000779  0.789179  0.184706   \n",
       "2  0.000740  0.857733  0.816045  0.926362  0.823850  0.272388  0.663529   \n",
       "3  0.004869  0.303899  0.288493  0.350515  0.268901  0.630597  0.427059   \n",
       "4  0.001389  0.345727  0.322528  0.407953  0.301637  0.563433  0.511765   \n",
       "\n",
       "        A16       A17       A18       A19  \n",
       "0  0.148008  0.498527  0.318996  0.168487  \n",
       "1  0.538899  0.016937  1.000000  0.154604  \n",
       "2  0.292220  0.926362  0.199347  0.124946  \n",
       "3  0.309298  0.350515  0.266914  0.175487  \n",
       "4  0.240987  0.407953  0.302925  0.171556  "
      ]
     },
     "execution_count": 4,
     "metadata": {},
     "output_type": "execute_result"
    }
   ],
   "source": [
    "print('Normalising...')\n",
    "minmax_scaler = MinMaxScaler()\n",
    "x_norm = minmax_scaler.fit_transform(x)\n",
    "x_norm = pd.DataFrame(x_norm, columns=['A1', 'A2','A3','A4', 'A5', 'A6','A7', 'A8','A9','A10','A11','A12', 'A13', 'A14','A15', 'A16', 'A17','A18', 'A19' ])\n",
    "x_norm.insert(0,'A0',1)\n",
    "x_norm.head()"
   ]
  },
  {
   "cell_type": "code",
   "execution_count": 5,
   "metadata": {},
   "outputs": [
    {
     "data": {
      "text/html": [
       "<div>\n",
       "<style scoped>\n",
       "    .dataframe tbody tr th:only-of-type {\n",
       "        vertical-align: middle;\n",
       "    }\n",
       "\n",
       "    .dataframe tbody tr th {\n",
       "        vertical-align: top;\n",
       "    }\n",
       "\n",
       "    .dataframe thead th {\n",
       "        text-align: right;\n",
       "    }\n",
       "</style>\n",
       "<table border=\"1\" class=\"dataframe\">\n",
       "  <thead>\n",
       "    <tr style=\"text-align: right;\">\n",
       "      <th></th>\n",
       "      <th>A1</th>\n",
       "      <th>A2</th>\n",
       "      <th>A3</th>\n",
       "      <th>A4</th>\n",
       "      <th>A5</th>\n",
       "      <th>A6</th>\n",
       "      <th>A7</th>\n",
       "      <th>A8</th>\n",
       "      <th>A9</th>\n",
       "      <th>A10</th>\n",
       "      <th>A11</th>\n",
       "      <th>A12</th>\n",
       "      <th>A13</th>\n",
       "      <th>A14</th>\n",
       "      <th>A15</th>\n",
       "      <th>A16</th>\n",
       "      <th>A17</th>\n",
       "      <th>A18</th>\n",
       "      <th>A19</th>\n",
       "    </tr>\n",
       "  </thead>\n",
       "  <tbody>\n",
       "    <tr>\n",
       "      <td>0</td>\n",
       "      <td>218</td>\n",
       "      <td>178</td>\n",
       "      <td>9</td>\n",
       "      <td>0.111111</td>\n",
       "      <td>0.0</td>\n",
       "      <td>0.833333</td>\n",
       "      <td>0.547722</td>\n",
       "      <td>1.111109</td>\n",
       "      <td>0.544331</td>\n",
       "      <td>59.629630</td>\n",
       "      <td>52.444443</td>\n",
       "      <td>75.222220</td>\n",
       "      <td>51.222220</td>\n",
       "      <td>-21.555555</td>\n",
       "      <td>46.77778</td>\n",
       "      <td>-25.222221</td>\n",
       "      <td>75.222220</td>\n",
       "      <td>0.318996</td>\n",
       "      <td>-2.040554</td>\n",
       "    </tr>\n",
       "    <tr>\n",
       "      <td>1</td>\n",
       "      <td>113</td>\n",
       "      <td>130</td>\n",
       "      <td>9</td>\n",
       "      <td>0.000000</td>\n",
       "      <td>0.0</td>\n",
       "      <td>0.277778</td>\n",
       "      <td>0.250924</td>\n",
       "      <td>0.333333</td>\n",
       "      <td>0.365148</td>\n",
       "      <td>0.888889</td>\n",
       "      <td>0.000000</td>\n",
       "      <td>2.555556</td>\n",
       "      <td>0.111111</td>\n",
       "      <td>-2.666667</td>\n",
       "      <td>5.00000</td>\n",
       "      <td>-2.333333</td>\n",
       "      <td>2.555556</td>\n",
       "      <td>1.000000</td>\n",
       "      <td>-2.123254</td>\n",
       "    </tr>\n",
       "    <tr>\n",
       "      <td>2</td>\n",
       "      <td>202</td>\n",
       "      <td>41</td>\n",
       "      <td>9</td>\n",
       "      <td>0.000000</td>\n",
       "      <td>0.0</td>\n",
       "      <td>0.944448</td>\n",
       "      <td>0.772202</td>\n",
       "      <td>1.111112</td>\n",
       "      <td>1.025597</td>\n",
       "      <td>123.037040</td>\n",
       "      <td>111.888885</td>\n",
       "      <td>139.777790</td>\n",
       "      <td>117.444440</td>\n",
       "      <td>-33.444443</td>\n",
       "      <td>50.22222</td>\n",
       "      <td>-16.777779</td>\n",
       "      <td>139.777790</td>\n",
       "      <td>0.199347</td>\n",
       "      <td>-2.299918</td>\n",
       "    </tr>\n",
       "    <tr>\n",
       "      <td>3</td>\n",
       "      <td>32</td>\n",
       "      <td>173</td>\n",
       "      <td>9</td>\n",
       "      <td>0.000000</td>\n",
       "      <td>0.0</td>\n",
       "      <td>1.722222</td>\n",
       "      <td>1.781593</td>\n",
       "      <td>9.000000</td>\n",
       "      <td>6.749488</td>\n",
       "      <td>43.592594</td>\n",
       "      <td>39.555557</td>\n",
       "      <td>52.888890</td>\n",
       "      <td>38.333336</td>\n",
       "      <td>-12.111111</td>\n",
       "      <td>27.88889</td>\n",
       "      <td>-15.777778</td>\n",
       "      <td>52.888890</td>\n",
       "      <td>0.266914</td>\n",
       "      <td>-1.998858</td>\n",
       "    </tr>\n",
       "    <tr>\n",
       "      <td>4</td>\n",
       "      <td>61</td>\n",
       "      <td>197</td>\n",
       "      <td>9</td>\n",
       "      <td>0.000000</td>\n",
       "      <td>0.0</td>\n",
       "      <td>1.444444</td>\n",
       "      <td>1.515353</td>\n",
       "      <td>2.611111</td>\n",
       "      <td>1.925463</td>\n",
       "      <td>49.592594</td>\n",
       "      <td>44.222220</td>\n",
       "      <td>61.555557</td>\n",
       "      <td>43.000000</td>\n",
       "      <td>-16.111110</td>\n",
       "      <td>35.88889</td>\n",
       "      <td>-19.777779</td>\n",
       "      <td>61.555557</td>\n",
       "      <td>0.302925</td>\n",
       "      <td>-2.022274</td>\n",
       "    </tr>\n",
       "  </tbody>\n",
       "</table>\n",
       "</div>"
      ],
      "text/plain": [
       "    A1   A2  A3        A4   A5        A6        A7        A8        A9  \\\n",
       "0  218  178   9  0.111111  0.0  0.833333  0.547722  1.111109  0.544331   \n",
       "1  113  130   9  0.000000  0.0  0.277778  0.250924  0.333333  0.365148   \n",
       "2  202   41   9  0.000000  0.0  0.944448  0.772202  1.111112  1.025597   \n",
       "3   32  173   9  0.000000  0.0  1.722222  1.781593  9.000000  6.749488   \n",
       "4   61  197   9  0.000000  0.0  1.444444  1.515353  2.611111  1.925463   \n",
       "\n",
       "          A10         A11         A12         A13        A14       A15  \\\n",
       "0   59.629630   52.444443   75.222220   51.222220 -21.555555  46.77778   \n",
       "1    0.888889    0.000000    2.555556    0.111111  -2.666667   5.00000   \n",
       "2  123.037040  111.888885  139.777790  117.444440 -33.444443  50.22222   \n",
       "3   43.592594   39.555557   52.888890   38.333336 -12.111111  27.88889   \n",
       "4   49.592594   44.222220   61.555557   43.000000 -16.111110  35.88889   \n",
       "\n",
       "         A16         A17       A18       A19  \n",
       "0 -25.222221   75.222220  0.318996 -2.040554  \n",
       "1  -2.333333    2.555556  1.000000 -2.123254  \n",
       "2 -16.777779  139.777790  0.199347 -2.299918  \n",
       "3 -15.777778   52.888890  0.266914 -1.998858  \n",
       "4 -19.777779   61.555557  0.302925 -2.022274  "
      ]
     },
     "execution_count": 5,
     "metadata": {},
     "output_type": "execute_result"
    }
   ],
   "source": [
    "# For comparison, here's the original set\n",
    "x.head()"
   ]
  },
  {
   "cell_type": "code",
   "execution_count": 6,
   "metadata": {},
   "outputs": [
    {
     "name": "stdout",
     "output_type": "stream",
     "text": [
      "One-hot encoding...\n",
      "[[0. 0. 0. ... 0. 1. 0.]\n",
      " [0. 0. 0. ... 0. 0. 0.]\n",
      " [0. 0. 1. ... 0. 0. 0.]\n",
      " ...\n",
      " [0. 0. 0. ... 0. 0. 0.]\n",
      " [0. 0. 1. ... 0. 0. 0.]\n",
      " [0. 0. 0. ... 0. 0. 0.]]\n",
      "class:  6\n"
     ]
    }
   ],
   "source": [
    "print('One-hot encoding...')\n",
    "from numpy import array\n",
    "from numpy import argmax\n",
    "from tensorflow.keras.utils import to_categorical\n",
    "# define example\n",
    "data = array(y)\n",
    "#print(data)\n",
    "# one hot encode\n",
    "encoded = to_categorical(data)\n",
    "print(encoded)\n",
    "# invert encoding (change value of encode[] to see inveterd output)\n",
    "inverted = argmax(encoded[0])\n",
    "print('class: ', inverted)"
   ]
  },
  {
   "cell_type": "markdown",
   "metadata": {},
   "source": [
    "## Splitting"
   ]
  },
  {
   "cell_type": "code",
   "execution_count": 7,
   "metadata": {},
   "outputs": [
    {
     "name": "stdout",
     "output_type": "stream",
     "text": [
      "Splitting into train and test sets...\n"
     ]
    }
   ],
   "source": [
    "print('Splitting into train and test sets...')\n",
    "trainx = np.matrix(x_norm.iloc[0:2000])\n",
    "trainy = np.matrix(y.iloc[0:2000]).transpose()\n",
    "testx = np.matrix(x_norm.iloc[2000:2301])\n",
    "testy = np.matrix(y.iloc[2000:2301]).transpose()"
   ]
  },
  {
   "cell_type": "markdown",
   "metadata": {},
   "source": [
    "## Models"
   ]
  },
  {
   "cell_type": "markdown",
   "metadata": {},
   "source": [
    "Experiment 1 with 1 hidden layer of 5 neurons"
   ]
  },
  {
   "cell_type": "code",
   "execution_count": 8,
   "metadata": {},
   "outputs": [
    {
     "name": "stdout",
     "output_type": "stream",
     "text": [
      "Experiment 1: ...\n",
      "300/300 [==============================] - 0s 210us/sample - loss: 0.9847 - accuracy: 0.7767\n",
      "300/300 [==============================] - 0s 200us/sample - loss: 1.0193 - accuracy: 0.6433\n",
      "300/300 [==============================] - 0s 197us/sample - loss: 1.0379 - accuracy: 0.6667\n",
      "300/300 [==============================] - 0s 197us/sample - loss: 1.0202 - accuracy: 0.7167\n",
      "300/300 [==============================] - 0s 213us/sample - loss: 1.0099 - accuracy: 0.6533\n",
      "300/300 [==============================] - 0s 437us/sample - loss: 1.0234 - accuracy: 0.7267\n",
      "300/300 [==============================] - 0s 257us/sample - loss: 1.0385 - accuracy: 0.7200\n",
      "300/300 [==============================] - 0s 197us/sample - loss: 1.0267 - accuracy: 0.7000\n",
      "300/300 [==============================] - 0s 207us/sample - loss: 1.1287 - accuracy: 0.6033\n",
      "300/300 [==============================] - 0s 200us/sample - loss: 1.0227 - accuracy: 0.7033\n",
      "[0.78, 0.64, 0.67, 0.72, 0.65, 0.73, 0.72, 0.7, 0.6, 0.7]\n",
      "Avg Accuracy:  69.10000443458557\n"
     ]
    }
   ],
   "source": [
    "print('Experiment 1: ...')\n",
    "i = 10\n",
    "mdl1 = []\n",
    "while i>0:\n",
    "    input_size = 20\n",
    "    output_size = 8\n",
    "    hidden_layer_size = 5\n",
    "# Visit https://keras.io/initializers/#initializer for more options on initializers\n",
    "    model = Sequential()\n",
    "    model.add(Dense(hidden_layer_size, activation = 'sigmoid',\n",
    "                    input_shape=(20,),\n",
    "                    kernel_initializer=initializers.lecun_normal(seed=None)))\n",
    "    model.add(Dense(output_size, activation='softmax'))\n",
    "    model.compile(loss='sparse_categorical_crossentropy',\n",
    "              optimizer='nadam',\n",
    "              metrics=['accuracy'])\n",
    "    model.fit(trainx, trainy, epochs=100, batch_size=100, verbose=0 )\n",
    "    mdl1_loss, mdl1_accuracy = model.evaluate(testx,testy, batch_size=None)\n",
    "    mdl1.append(mdl1_accuracy)\n",
    "    i=i-1\n",
    "print(list(np.around(mdl1,2)))\n",
    "print('Avg Accuracy: ', np.mean(mdl1)*100)"
   ]
  },
  {
   "cell_type": "markdown",
   "metadata": {},
   "source": [
    "Note:\n",
    "Accuracy is not very high; shall now adjust for learning rate with the chosen optimizer instead od default values.\n",
    "\n",
    "optimizer='adam' --> custom_optimizer = tf.keras.optimizers.(Adam/Nadam/Adamax)(learning_rate=0.1)\n",
    "For this dataset, 'Adadelta' is not very accurate... keep in mind\n",
    "\n",
    "Visit: https://keras.io/optimizers/ for more options on optimizers such as Adam, Adagrad, Adadelta, RMSprop"
   ]
  },
  {
   "cell_type": "code",
   "execution_count": 9,
   "metadata": {},
   "outputs": [
    {
     "name": "stdout",
     "output_type": "stream",
     "text": [
      "Experiment 1 (adjusted): ...\n",
      "300/300 [==============================] - 0s 197us/sample - loss: 0.1846 - accuracy: 0.9467\n",
      "300/300 [==============================] - 0s 323us/sample - loss: 0.1564 - accuracy: 0.9433\n",
      "300/300 [==============================] - 0s 250us/sample - loss: 0.2299 - accuracy: 0.9267\n",
      "300/300 [==============================] - 0s 237us/sample - loss: 0.1816 - accuracy: 0.9300\n",
      "300/300 [==============================] - 0s 887us/sample - loss: 0.1935 - accuracy: 0.9267\n",
      "300/300 [==============================] - 0s 213us/sample - loss: 0.1891 - accuracy: 0.9433\n",
      "300/300 [==============================] - 0s 240us/sample - loss: 0.1753 - accuracy: 0.9400\n",
      "300/300 [==============================] - 0s 267us/sample - loss: 0.2050 - accuracy: 0.9300\n",
      "300/300 [==============================] - 0s 213us/sample - loss: 0.2392 - accuracy: 0.9233\n",
      "300/300 [==============================] - 0s 217us/sample - loss: 0.1599 - accuracy: 0.9567\n",
      "[0.95, 0.94, 0.93, 0.93, 0.93, 0.94, 0.94, 0.93, 0.92, 0.96]\n",
      "Avg Accuracy:  93.66666674613953\n"
     ]
    }
   ],
   "source": [
    "print('Experiment 1 (adjusted): ...')\n",
    "i = 10\n",
    "mdl1 = []\n",
    "while i>0:\n",
    "    input_size = 20\n",
    "    output_size = 8\n",
    "    hidden_layer_size = 5\n",
    "# Visit https://keras.io/initializers/#initializer for more options on initializers    \n",
    "    model = Sequential()\n",
    "    model.add(Dense(hidden_layer_size, activation = 'sigmoid',\n",
    "                    input_shape=(20,),\n",
    "                    kernel_initializer=initializers.lecun_normal(seed=None)))\n",
    "    model.add(Dense(output_size, activation='softmax'))\n",
    "    custom_optimizer = tf.keras.optimizers.Nadam(learning_rate=0.1) #learning rate hyper-parameter fixed at 0.1\n",
    "    model.compile(loss='sparse_categorical_crossentropy',\n",
    "              optimizer=custom_optimizer,\n",
    "              metrics=['accuracy'])\n",
    "    model.fit(trainx, trainy, epochs=100, batch_size=100, verbose=0 )\n",
    "    mdl1_loss, mdl1_accuracy = model.evaluate(testx,testy, batch_size=None)\n",
    "    mdl1.append(mdl1_accuracy)\n",
    "    i=i-1\n",
    "print(list(np.around(mdl1,2))) #Rounding to nearest 10^-2 decimal\n",
    "print('Avg Accuracy: ', np.mean(mdl1)*100) #Calculating mean for appended list"
   ]
  },
  {
   "cell_type": "markdown",
   "metadata": {},
   "source": [
    "Our accuracy has now been boosted to 93.47% as compared to the previous 68.77%.\n",
    "\n",
    "Using this format for the remaining models should work...\n",
    "\n",
    "Experiment 2 with 1 hidden layer of 25 neurons"
   ]
  },
  {
   "cell_type": "code",
   "execution_count": 10,
   "metadata": {},
   "outputs": [
    {
     "name": "stdout",
     "output_type": "stream",
     "text": [
      "Experiment 2: ...\n",
      "300/300 [==============================] - 0s 253us/sample - loss: 0.1033 - accuracy: 0.9667\n",
      "300/300 [==============================] - 0s 977us/sample - loss: 0.1406 - accuracy: 0.9500\n",
      "300/300 [==============================] - 0s 237us/sample - loss: 0.1115 - accuracy: 0.9567\n",
      "300/300 [==============================] - 0s 233us/sample - loss: 0.1180 - accuracy: 0.9500\n",
      "300/300 [==============================] - 0s 227us/sample - loss: 0.0895 - accuracy: 0.9667\n",
      "300/300 [==============================] - 0s 197us/sample - loss: 0.1358 - accuracy: 0.9500\n",
      "300/300 [==============================] - 0s 253us/sample - loss: 0.1260 - accuracy: 0.9567\n",
      "300/300 [==============================] - 0s 217us/sample - loss: 0.1406 - accuracy: 0.9500\n",
      "300/300 [==============================] - 0s 830us/sample - loss: 0.1327 - accuracy: 0.9633\n",
      "300/300 [==============================] - 0s 223us/sample - loss: 0.1413 - accuracy: 0.9567\n",
      "[0.97, 0.95, 0.96, 0.95, 0.97, 0.95, 0.96, 0.95, 0.96, 0.96]\n",
      "Avg Accuracy:  95.6666648387909\n"
     ]
    }
   ],
   "source": [
    "print('Experiment 2: ...')\n",
    "i = 10\n",
    "mdl2 = []\n",
    "while i>0:\n",
    "    input_size = 20\n",
    "    output_size = 8\n",
    "    hidden_layer_size = 25\n",
    "# Visit https://keras.io/initializers/#initializer for more options on initializers    \n",
    "    model = Sequential()\n",
    "    model.add(Dense(hidden_layer_size, activation = 'sigmoid',\n",
    "                    input_shape=(20,),\n",
    "                    kernel_initializer=initializers.lecun_normal(seed=None)))\n",
    "    model.add(Dense(output_size, activation='softmax'))\n",
    "    custom_optimizer = tf.keras.optimizers.Nadam(learning_rate=0.1)\n",
    "    model.compile(loss='sparse_categorical_crossentropy',\n",
    "              optimizer=custom_optimizer,\n",
    "              metrics=['accuracy'])\n",
    "    model.fit(trainx, trainy, epochs=100, batch_size=100, verbose=0 )\n",
    "    mdl2_loss, mdl2_accuracy = model.evaluate(testx,testy, batch_size=None)\n",
    "    mdl2.append(mdl2_accuracy)\n",
    "    i=i-1\n",
    "print(list(np.around(mdl2,2)))\n",
    "print('Avg Accuracy: ', np.mean(mdl2)*100) #Calculating mean for appended list"
   ]
  },
  {
   "cell_type": "markdown",
   "metadata": {},
   "source": [
    "Experiment 3 with 2 hidden layers and 5 neurons each"
   ]
  },
  {
   "cell_type": "code",
   "execution_count": 11,
   "metadata": {},
   "outputs": [
    {
     "name": "stdout",
     "output_type": "stream",
     "text": [
      "Experiment 3: ...\n",
      "300/300 [==============================] - 0s 227us/sample - loss: 0.1780 - accuracy: 0.9400\n",
      "300/300 [==============================] - 0s 250us/sample - loss: 0.3554 - accuracy: 0.8700\n",
      "300/300 [==============================] - 0s 210us/sample - loss: 0.2024 - accuracy: 0.9367\n",
      "300/300 [==============================] - 0s 223us/sample - loss: 0.1335 - accuracy: 0.9467\n",
      "300/300 [==============================] - 0s 247us/sample - loss: 0.1741 - accuracy: 0.9433\n",
      "300/300 [==============================] - 0s 213us/sample - loss: 0.2002 - accuracy: 0.9300\n",
      "300/300 [==============================] - 0s 207us/sample - loss: 0.1667 - accuracy: 0.9500\n",
      "300/300 [==============================] - 0s 217us/sample - loss: 0.1667 - accuracy: 0.9267\n",
      "300/300 [==============================] - 0s 233us/sample - loss: 0.1800 - accuracy: 0.9500\n",
      "300/300 [==============================] - 0s 230us/sample - loss: 0.4123 - accuracy: 0.8600\n",
      "[0.94, 0.87, 0.94, 0.95, 0.94, 0.93, 0.95, 0.93, 0.95, 0.86]\n",
      "Avg Accuracy:  92.5333321094513\n"
     ]
    }
   ],
   "source": [
    "print('Experiment 3: ...')\n",
    "i = 10\n",
    "mdl3 = []\n",
    "while i>0:\n",
    "    input_size = 20\n",
    "    output_size = 8\n",
    "    hidden_layer_size = 5\n",
    "# Visit https://keras.io/initializers/#initializer for more options on initializers    \n",
    "    model = Sequential()\n",
    "    model.add(Dense(hidden_layer_size, activation = 'sigmoid',\n",
    "                    input_shape=(20,),\n",
    "                    kernel_initializer=initializers.lecun_normal(seed=None)))\n",
    "    model.add(Dense(hidden_layer_size, activation='sigmoid'))\n",
    "    model.add(Dense(output_size, activation='softmax'))\n",
    "    custom_optimizer = tf.keras.optimizers.Nadam(learning_rate=0.1)\n",
    "    model.compile(loss='sparse_categorical_crossentropy',\n",
    "              optimizer=custom_optimizer,\n",
    "              metrics=['accuracy'])\n",
    "    model.fit(trainx, trainy, epochs=100, batch_size=100, verbose=0 )\n",
    "    mdl3_loss, mdl3_accuracy = model.evaluate(testx,testy, batch_size=None)\n",
    "    mdl3.append(mdl3_accuracy)\n",
    "    i=i-1\n",
    "print(list(np.around(mdl3,2)))\n",
    "print('Avg Accuracy: ', np.mean(mdl3)*100) #Calculating mean for appended list"
   ]
  },
  {
   "cell_type": "markdown",
   "metadata": {},
   "source": [
    "Experiment 4 with 2 hidden layers and 25 neurons each"
   ]
  },
  {
   "cell_type": "code",
   "execution_count": 15,
   "metadata": {},
   "outputs": [
    {
     "name": "stdout",
     "output_type": "stream",
     "text": [
      "Experiment 4: ...\n",
      "300/300 [==============================] - 0s 220us/sample - loss: 0.2240 - accuracy: 0.9233\n",
      "300/300 [==============================] - 0s 303us/sample - loss: 0.0790 - accuracy: 0.9667\n",
      "300/300 [==============================] - 0s 213us/sample - loss: 0.2345 - accuracy: 0.9100\n",
      "300/300 [==============================] - 0s 220us/sample - loss: 0.0902 - accuracy: 0.9800\n",
      "300/300 [==============================] - 0s 237us/sample - loss: 0.0681 - accuracy: 0.9767\n",
      "300/300 [==============================] - 0s 283us/sample - loss: 0.0705 - accuracy: 0.9733\n",
      "300/300 [==============================] - 0s 213us/sample - loss: 0.1670 - accuracy: 0.9400\n",
      "300/300 [==============================] - 0s 223us/sample - loss: 0.1098 - accuracy: 0.9667\n",
      "300/300 [==============================] - 0s 210us/sample - loss: 0.0968 - accuracy: 0.9700\n",
      "300/300 [==============================] - 0s 263us/sample - loss: 0.0845 - accuracy: 0.9667\n",
      "[0.92, 0.97, 0.91, 0.98, 0.98, 0.97, 0.94, 0.97, 0.97, 0.97]\n",
      "Avg Accuracy:  95.73332667350769\n"
     ]
    }
   ],
   "source": [
    "print('Experiment 4: ...')\n",
    "i = 10\n",
    "mdl4 = []\n",
    "while i>0:\n",
    "    input_size = 20\n",
    "    output_size = 8\n",
    "    hidden_layer_size = 25\n",
    "# Visit https://keras.io/initializers/#initializer for more options on initializers    \n",
    "    model = Sequential()\n",
    "    model.add(Dense(hidden_layer_size, activation = 'sigmoid',\n",
    "                    input_shape=(20,),\n",
    "                    kernel_initializer=initializers.lecun_normal(seed=None)))\n",
    "    model.add(Dense(hidden_layer_size, activation='sigmoid'))\n",
    "    model.add(Dense(output_size, activation='softmax'))\n",
    "    custom_optimizer = tf.keras.optimizers.Nadam(learning_rate=0.1)\n",
    "    model.compile(loss='sparse_categorical_crossentropy',\n",
    "              optimizer=custom_optimizer,\n",
    "              metrics=['accuracy'])\n",
    "    model.fit(trainx, trainy, epochs=100, batch_size=100, verbose=0 )\n",
    "    mdl4_loss, mdl4_accuracy = model.evaluate(testx,testy, batch_size=None)\n",
    "    mdl4.append(mdl4_accuracy)\n",
    "    i=i-1\n",
    "print(list(np.around(mdl4,2)))\n",
    "print('Avg Accuracy: ', np.mean(mdl4)*100) #Calculating mean for appended list"
   ]
  },
  {
   "cell_type": "markdown",
   "metadata": {},
   "source": [
    "## Plots"
   ]
  },
  {
   "cell_type": "code",
   "execution_count": 16,
   "metadata": {},
   "outputs": [
    {
     "name": "stdout",
     "output_type": "stream",
     "text": [
      "Options:  ['bmh', 'classic', 'dark_background', 'fast', 'fivethirtyeight', 'ggplot', 'grayscale', 'seaborn-bright', 'seaborn-colorblind', 'seaborn-dark-palette', 'seaborn-dark', 'seaborn-darkgrid', 'seaborn-deep', 'seaborn-muted', 'seaborn-notebook', 'seaborn-paper', 'seaborn-pastel', 'seaborn-poster', 'seaborn-talk', 'seaborn-ticks', 'seaborn-white', 'seaborn-whitegrid', 'seaborn', 'Solarize_Light2', 'tableau-colorblind10', '_classic_test']\n"
     ]
    },
    {
     "data": {
      "image/png": "[encoded data removed]",
      "text/plain": [
       "<Figure size 576x396 with 1 Axes>"
      ]
     },
     "metadata": {},
     "output_type": "display_data"
    }
   ],
   "source": [
    "# Choose plot style from below selection and use it\n",
    "print('Options: ', plt.style.available)\n",
    "plt.style.use('seaborn')\n",
    "\n",
    "hdn_lyrs = ['[5]', '[5][5]', '[25]', '[25][25]' ]\n",
    "accuracy = [np.mean(mdl1)*100, np.mean(mdl2)*100, np.mean(mdl3)*100, np.mean(mdl4)*100]\n",
    "\n",
    "pos = [i for i, _ in enumerate(hdn_lyrs)]\n",
    "\n",
    "plt.bar(pos, accuracy, color='g')\n",
    "plt.xlabel(\"Model\")\n",
    "plt.ylabel(\"Accuracy\")\n",
    "plt.title(\"Accuracy vs Model-type\")\n",
    "\n",
    "# pyplot.xticks sets the current tick locations and labels of the x-axis\n",
    "plt.xticks(pos, hdn_lyrs)\n",
    "plt.show()"
   ]
  },
  {
   "cell_type": "code",
   "execution_count": null,
   "metadata": {},
   "outputs": [],
   "source": []
  }
 ],
 "metadata": {
  "kernelspec": {
   "display_name": "Python 3",
   "language": "python",
   "name": "python3"
  },
  "language_info": {
   "codemirror_mode": {
    "name": "ipython",
    "version": 3
   },
   "file_extension": ".py",
   "mimetype": "text/x-python",
   "name": "python",
   "nbconvert_exporter": "python",
   "pygments_lexer": "ipython3",
   "version": "3.7.4"
  }
 },
 "nbformat": 4,
 "nbformat_minor": 2
}
